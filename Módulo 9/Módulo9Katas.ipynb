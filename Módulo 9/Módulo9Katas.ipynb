{
 "cells": [
  {
   "cell_type": "markdown",
   "metadata": {},
   "source": [
    "# Ejercicio: Uso de funciones en Python\n"
   ]
  },
  {
   "cell_type": "code",
   "execution_count": 1,
   "metadata": {},
   "outputs": [],
   "source": [
    "# Función para leer 3 tanques de combustible y muestre el promedio\n",
    "\n",
    "def generar_reporte(tanque_uno, tanque_dos, tanque_tres):\n",
    "    promedio_total = (tanque_uno + tanque_dos + tanque_tres) / 3\n",
    "    return f\"\"\"Reporte de combustible:\n",
    "    Promedio total: {promedio_total}%\n",
    "    Tanque uno: {tanque_uno}%\n",
    "    Tanque dos: {tanque_dos}%\n",
    "    Tanque tres: {tanque_tres}% \n",
    "    \"\"\""
   ]
  },
  {
   "cell_type": "code",
   "execution_count": 3,
   "metadata": {},
   "outputs": [
    {
     "name": "stdout",
     "output_type": "stream",
     "text": [
      "Combustible:\n",
      "    Promedio total: 78.33333333333333%\n",
      "    Tanque uno: 80%\n",
      "    Tanque dos: 70%\n",
      "    Tanque tres: 85% \n",
      "    \n"
     ]
    }
   ],
   "source": [
    "# Llamamos a la función que genera el reporte print(funcion(tanque1, tanque2, tanque3))\n",
    "\n",
    "print(generar_reporte(80, 70, 85))\n"
   ]
  },
  {
   "cell_type": "code",
   "execution_count": 5,
   "metadata": {},
   "outputs": [
    {
     "data": {
      "text/plain": [
       "82.0"
      ]
     },
     "execution_count": 5,
     "metadata": {},
     "output_type": "execute_result"
    }
   ],
   "source": [
    "# Función promedio \n",
    "def average(values):\n",
    "    total = sum(values)\n",
    "    numero_elementos = len(values)\n",
    "    return total / numero_elementos\n",
    "\n",
    "average([80, 85, 81]) "
   ]
  },
  {
   "cell_type": "code",
   "execution_count": 6,
   "metadata": {},
   "outputs": [
    {
     "name": "stdout",
     "output_type": "stream",
     "text": [
      "Reporte de combustible:\n",
      "    Promedio total: 78.0%\n",
      "    Tanque uno: 88%\n",
      "    Tanque dos: 76%\n",
      "    Tanque tes: 70% \n",
      "    \n"
     ]
    }
   ],
   "source": [
    "# Actualiza la función\n",
    "def generar_reporte(tanque_uno, tanque_dos, tanque_tres):\n",
    "    return f\"\"\"Reporte de combustible:\n",
    "    Promedio total: {average([tanque_uno, tanque_dos, tanque_tres])}%\n",
    "    Tanque uno: {tanque_uno}%\n",
    "    Tanque dos: {tanque_dos}%\n",
    "    Tanque tes: {tanque_tres}% \n",
    "    \"\"\"\n",
    "print(generar_reporte(88, 76, 70))"
   ]
  },
  {
   "cell_type": "markdown",
   "metadata": {},
   "source": [
    "# Ejercicio 2: Trabajo con argumentos de palabra clave\n"
   ]
  },
  {
   "cell_type": "code",
   "execution_count": 7,
   "metadata": {},
   "outputs": [
    {
     "name": "stdout",
     "output_type": "stream",
     "text": [
      "\n",
      "    Misión a Luna\n",
      "    Tiempo de vuelo total: 65 minutos\n",
      "    Total combustible restante: 500000 galones\n",
      "    \n"
     ]
    }
   ],
   "source": [
    "# Función con un informe preciso de la misión. Considera hora de prelanzamiento, tiempo de vuelo, destino, tanque externo y tanque interno\n",
    "\n",
    "def reporte_mision(pre_lanzamiento, hora_vuelo, destino, tanque_dos, tanque_uno):\n",
    "    return f\"\"\"\n",
    "    Misión a {destino}\n",
    "    Tiempo de vuelo total: {pre_lanzamiento + hora_vuelo} minutos\n",
    "    Total combustible restante: {tanque_dos + tanque_uno} galones\n",
    "    \"\"\"\n",
    "\n",
    "print(reporte_mision(14, 51, \"Luna\", 200000, 300000))"
   ]
  },
  {
   "cell_type": "code",
   "execution_count": 8,
   "metadata": {},
   "outputs": [
    {
     "name": "stdout",
     "output_type": "stream",
     "text": [
      "\n",
      "    Misión a Luna\n",
      "    Tiempo de tiempo: 76 minutos\n",
      "    Total combustible restante: 500000\n",
      "    \n"
     ]
    }
   ],
   "source": [
    "# Escribe tu nueva función de reporte considerando lo anterior\n",
    "\n",
    "def reporte_mision(destino, *minutos, **combustible_reserva):\n",
    "    return f\"\"\"\n",
    "    Misión a {destino}\n",
    "    Tiempo de tiempo: {sum(minutos)} minutos\n",
    "    Total combustible restante: {sum(combustible_reserva.values())}\n",
    "    \"\"\"\n",
    "\n",
    "print(reporte_mision(\"Luna\", 10, 15, 51, main=300000, external=200000))"
   ]
  },
  {
   "cell_type": "code",
   "execution_count": 14,
   "metadata": {},
   "outputs": [
    {
     "name": "stdout",
     "output_type": "stream",
     "text": [
      "\n",
      "    Misión a Luna\n",
      "    Tiempo de tiempo: 74 minutos\n",
      "    Total combustible restante: 500000\n",
      "    Tanque uno --> 300000 galones restantes\n",
      "Tanque dos --> 200000 galones restantes\n",
      "\n"
     ]
    }
   ],
   "source": [
    "# Escribe tu nueva función\n",
    "\n",
    "def reporte_mision(destino, *minutos, **combustible_reserva):\n",
    "    reporte_principal = f\"\"\"\n",
    "    Misión a {destino}\n",
    "    Tiempo de tiempo: {sum(minutos)} minutos\n",
    "    Total combustible restante: {sum(combustible_reserva.values())}\n",
    "    \"\"\"\n",
    "    for nombre_tanque, galones in combustible_reserva.items():\n",
    "        reporte_principal += f\"Tanque {nombre_tanque} --> {galones} galones restantes\\n\"\n",
    "    return reporte_principal\n",
    "\n",
    "print(reporte_mision(\"Luna\", 8, 11, 55, uno=300000, dos=200000))"
   ]
  }
 ],
 "metadata": {
  "interpreter": {
   "hash": "0bbbc000b682b7d3a00b6c110dbb9ac01882acd88c2acc7b071b46530372c6c6"
  },
  "kernelspec": {
   "display_name": "Python 3.9.5 64-bit",
   "language": "python",
   "name": "python3"
  },
  "language_info": {
   "codemirror_mode": {
    "name": "ipython",
    "version": 3
   },
   "file_extension": ".py",
   "mimetype": "text/x-python",
   "name": "python",
   "nbconvert_exporter": "python",
   "pygments_lexer": "ipython3",
   "version": "3.9.5"
  },
  "orig_nbformat": 4
 },
 "nbformat": 4,
 "nbformat_minor": 2
}
